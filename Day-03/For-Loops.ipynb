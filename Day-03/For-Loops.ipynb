{
 "cells": [
  {
   "cell_type": "code",
   "execution_count": 3,
   "metadata": {},
   "outputs": [
    {
     "name": "stdout",
     "output_type": "stream",
     "text": [
      "1\n",
      "2\n",
      "3\n",
      "4\n",
      "5\n"
     ]
    }
   ],
   "source": [
    "sequence = [1, 2, 3, 4, 5] \n",
    "for item in sequence: # sequence is the list, tuple, or string you are iterating over\n",
    "    print(item)\n"
   ]
  },
  {
   "cell_type": "code",
   "execution_count": null,
   "metadata": {},
   "outputs": [
    {
     "name": "stdout",
     "output_type": "stream",
     "text": [
      "apple\n",
      "banana\n",
      "cherry\n"
     ]
    }
   ],
   "source": [
    "fruits = [\"apple\", \"banana\", \"cherry\"]\n",
    "for fruit in fruits: # fruit is the variable that will hold the value of the current element of the sequence\n",
    "    print(fruit)"
   ]
  },
  {
   "cell_type": "code",
   "execution_count": 7,
   "metadata": {},
   "outputs": [
    {
     "name": "stdout",
     "output_type": "stream",
     "text": [
      "[49, 25, 64, 16, 81, 144]\n"
     ]
    }
   ],
   "source": [
    "# to take the square of each element using a for loop\n",
    "numbers = [7, 5, 8, 4, 9, 12]\n",
    "square_numbers = [] \n",
    "for number in numbers:\n",
    "    square_numbers.append(number*number)\n",
    "print(square_numbers)    "
   ]
  },
  {
   "cell_type": "code",
   "execution_count": null,
   "metadata": {},
   "outputs": [
    {
     "name": "stdout",
     "output_type": "stream",
     "text": [
      "[1, 4, 9, 16, 25]\n"
     ]
    }
   ],
   "source": [
    "# to take the square of each element using a for loop and user input\n",
    "user_input = int(input(\"Enter a number: \"))\n",
    "square_numbers = []\n",
    "for number in range(1, user_input+1):\n",
    "    square_numbers.append(number*number)\n",
    "print(square_numbers)    "
   ]
  },
  {
   "cell_type": "code",
   "execution_count": 15,
   "metadata": {},
   "outputs": [
    {
     "name": "stdout",
     "output_type": "stream",
     "text": [
      "[4, 144, 81, 64]\n"
     ]
    }
   ],
   "source": [
    "# to take the square of each element using a list comprehension\n",
    "numbers = [2, 12, 9, 8]\n",
    "result = [num * num for num in numbers]\n",
    "print(result)"
   ]
  },
  {
   "cell_type": "code",
   "execution_count": null,
   "metadata": {},
   "outputs": [
    {
     "name": "stdout",
     "output_type": "stream",
     "text": [
      "[64, 144, 25, 16]\n"
     ]
    }
   ],
   "source": [
    "# to take the square of each element using a list of positive numbers from a list of positive and negative numbers\n",
    "numbers = [8, 12, -1, 5, 4, 0, -5]\n",
    "positive_numbers = [num for num in numbers if num > 0]\n",
    "square_numbers = [ num*num for num in positive_numbers]\n",
    "print(square_numbers)"
   ]
  }
 ],
 "metadata": {
  "kernelspec": {
   "display_name": "Python 3",
   "language": "python",
   "name": "python3"
  },
  "language_info": {
   "codemirror_mode": {
    "name": "ipython",
    "version": 3
   },
   "file_extension": ".py",
   "mimetype": "text/x-python",
   "name": "python",
   "nbconvert_exporter": "python",
   "pygments_lexer": "ipython3",
   "version": "3.13.0"
  }
 },
 "nbformat": 4,
 "nbformat_minor": 2
}
