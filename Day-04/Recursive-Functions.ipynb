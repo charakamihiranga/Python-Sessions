{
 "cells": [
  {
   "cell_type": "markdown",
   "metadata": {},
   "source": [
    "# Recursive Functions\n",
    "\n",
    "A recursive function in Python is a function that calls itself in order to solve a problem. This technique is useful for problems that can be broken down into smaller, similar sub-problems. A recursive function typically has two main components: a base case, which stops the recursion when a certain condition is met, and a recursive case, where the function calls itself with modified arguments. For example, calculating the factorial of a number can be done recursively by multiplying the number by the factorial of the number minus one, with the base case being when the number is zero or one."
   ]
  },
  {
   "cell_type": "code",
   "execution_count": null,
   "metadata": {},
   "outputs": [
    {
     "name": "stdout",
     "output_type": "stream",
     "text": [
      "120\n",
      "24\n"
     ]
    }
   ],
   "source": [
    "# to find a factorial of a number\n",
    "def find_factorial(n):\n",
    "    tmp = 1\n",
    "    factorial = 1;\n",
    "    if n == 0:\n",
    "        return 1    \n",
    "    else:\n",
    "       while(tmp != n):\n",
    "            factorial += factorial * tmp\n",
    "            tmp += 1\n",
    "    return factorial        \n",
    "\n",
    "\n",
    "print(find_factorial(5))\n",
    "\n",
    "# another way to find factorial\n",
    "\n",
    "def find_factorial2(n):\n",
    "    fact = 1;\n",
    "    if n == 0:\n",
    "        return 1\n",
    "    else:\n",
    "        for i in range(1,n+1):\n",
    "            fact *= i\n",
    "    return fact\n",
    "\n",
    "print(find_factorial2(4))        "
   ]
  },
  {
   "cell_type": "code",
   "execution_count": 58,
   "metadata": {},
   "outputs": [
    {
     "name": "stdout",
     "output_type": "stream",
     "text": [
      "The factorial of 5 is: 120\n"
     ]
    }
   ],
   "source": [
    "# find factorial using recursive function\n",
    "def factorial(n):\n",
    "    if n == 0 or n == 1: # base condition: every recursive function should have a base condition to stop the recursion\n",
    "        return 1\n",
    "    else:\n",
    "        return (n * factorial(n-1))\n",
    "\n",
    "num = 5;\n",
    "print(\"The factorial of\",num,\"is:\", factorial(num))    "
   ]
  },
  {
   "cell_type": "code",
   "execution_count": null,
   "metadata": {},
   "outputs": [
    {
     "name": "stdout",
     "output_type": "stream",
     "text": [
      "55\n",
      "0\n"
     ]
    }
   ],
   "source": [
    "# Calculate the sum of all the elements in a array list using recursive function\n",
    "def sum_of_array(arr):\n",
    "    if len(arr) == 0:\n",
    "        return 0\n",
    "    else:\n",
    "        return (arr[0] + sum_of_array(arr[1:]))\n",
    "\n",
    "print(sum_of_array([1,2,3,4,5,6,7,8,9,10]))    \n",
    "print(sum_of_array([]))  \n",
    "    "
   ]
  }
 ],
 "metadata": {
  "kernelspec": {
   "display_name": "Python 3",
   "language": "python",
   "name": "python3"
  },
  "language_info": {
   "codemirror_mode": {
    "name": "ipython",
    "version": 3
   },
   "file_extension": ".py",
   "mimetype": "text/x-python",
   "name": "python",
   "nbconvert_exporter": "python",
   "pygments_lexer": "ipython3",
   "version": "3.13.0"
  }
 },
 "nbformat": 4,
 "nbformat_minor": 2
}
