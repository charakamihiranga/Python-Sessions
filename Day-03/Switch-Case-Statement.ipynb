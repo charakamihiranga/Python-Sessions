{
 "cells": [
  {
   "cell_type": "code",
   "execution_count": null,
   "metadata": {},
   "outputs": [
    {
     "name": "stdout",
     "output_type": "stream",
     "text": [
      "9\n"
     ]
    }
   ],
   "source": [
    "\n",
    "numbers=[4,3,2]\n",
    "match numbers:\n",
    "    case [x,y]:\n",
    "        print(x + y)\n",
    "    case [x, y, z]:\n",
    "        print(x+y+z)\n",
    "    case _:\n",
    "        print(\"something else\")         "
   ]
  },
  {
   "cell_type": "code",
   "execution_count": null,
   "metadata": {},
   "outputs": [
    {
     "name": "stdout",
     "output_type": "stream",
     "text": [
      "something else\n"
     ]
    }
   ],
   "source": [
    "# numbers = [1]\n",
    "# length_of_num = len(numbers)\n",
    "# match length_of_num:\n",
    "#     case 0:\n",
    "#         print(\"empty list\")\n",
    "#     case 1:\n",
    "#         print(\"one element\")\n",
    "#     case 2:\n",
    "#         print(\"two elements\") \n",
    "#     case _:\n",
    "#         print(\"something else\")     \n",
    "# \n",
    "numbers = [1,2,3,4]\n",
    "match numbers:\n",
    "    case [] :\n",
    "        print(\"empty list\")\n",
    "    case [x]:\n",
    "        print(\"one element\")\n",
    "    case [x, y]:\n",
    "        print(\"two elements\")\n",
    "    case _:\n",
    "        print(\"something else\")             "
   ]
  },
  {
   "cell_type": "code",
   "execution_count": null,
   "metadata": {},
   "outputs": [],
   "source": []
  }
 ],
 "metadata": {
  "kernelspec": {
   "display_name": "Python 3",
   "language": "python",
   "name": "python3"
  },
  "language_info": {
   "codemirror_mode": {
    "name": "ipython",
    "version": 3
   },
   "file_extension": ".py",
   "mimetype": "text/x-python",
   "name": "python",
   "nbconvert_exporter": "python",
   "pygments_lexer": "ipython3",
   "version": "3.13.0"
  }
 },
 "nbformat": 4,
 "nbformat_minor": 2
}
