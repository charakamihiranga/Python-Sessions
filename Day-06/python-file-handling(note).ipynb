{
 "cells": [
  {
   "cell_type": "markdown",
   "metadata": {},
   "source": [
    "## How to write to a file in python"
   ]
  },
  {
   "cell_type": "code",
   "execution_count": 2,
   "metadata": {},
   "outputs": [],
   "source": [
    "with open(\"writeExample.txt\", \"w\") as file: \n",
    "    file.write(\"Hello World\\n\")\n",
    "    file.write(\"This is our new text file\\n\")\n",
    "    file.write(\"and this is another line.\")"
   ]
  },
  {
   "cell_type": "code",
   "execution_count": 5,
   "metadata": {},
   "outputs": [],
   "source": [
    "with open (\"writeExample.txt\", \"w\") as file:\n",
    "    file.writelines([\"Hello World\\n\", \"This is our new text file\\n\", \"and this is another line.\"])"
   ]
  },
  {
   "cell_type": "markdown",
   "metadata": {},
   "source": [
    "### Exercise 1 - Simple contact management system\n",
    "\n",
    " = create a programm that store and manage contacts in a file name \"contacts.txt\" \n",
    " = each contact entry should have name, phone number, email\n",
    " * feature to implement \n",
    " = view all contacts : read and display all contacts from the file \n",
    " = add a new contact : append a contact to the file\n",
    " = exit : exit from the program\n",
    "\n",
    " structure of contacts .txt => \n",
    "    * John Doe, 12345678, johndoe@example.com\n",
    "    * Kate Ferry, 7523541, kate@example.com"
   ]
  },
  {
   "cell_type": "code",
   "execution_count": 2,
   "metadata": {},
   "outputs": [
    {
     "name": "stdout",
     "output_type": "stream",
     "text": [
      "charaka 123456 charaka@gmail.com\n",
      "abc, 123456, abc@gmail.com\n",
      "xyz, 3216549, xyz@gmail.com\n",
      "aad, 123432, aad@example.com\n"
     ]
    }
   ],
   "source": [
    "\n",
    "def add_contact():\n",
    "    with open(\"contacts.txt\", \"a\") as file:\n",
    "        name = input(\"Enter name: \")\n",
    "        number = input(\"Enter number: \")\n",
    "        email = input(\"Enter email: \")\n",
    "        file.write(f\"{name}, {number}, {email}\\n\")\n",
    "        \n",
    "def view_all_contacts():\n",
    "    all_contacts = []\n",
    "    with open(\"contacts.txt\", \"r\") as file:\n",
    "        for line in file:\n",
    "            all_contacts.append(line.strip())\n",
    "    for contact in all_contacts:\n",
    "        print(contact)        \n",
    "\n",
    "while (True) :\n",
    "    userInput = int(input())\n",
    "    if userInput == 3:\n",
    "        break\n",
    "    if userInput == 1:\n",
    "        view_all_contacts()\n",
    "    if userInput == 2:\n",
    "        add_contact()\n",
    "\n"
   ]
  }
 ],
 "metadata": {
  "kernelspec": {
   "display_name": "Python 3",
   "language": "python",
   "name": "python3"
  },
  "language_info": {
   "codemirror_mode": {
    "name": "ipython",
    "version": 3
   },
   "file_extension": ".py",
   "mimetype": "text/x-python",
   "name": "python",
   "nbconvert_exporter": "python",
   "pygments_lexer": "ipython3",
   "version": "3.12.6"
  }
 },
 "nbformat": 4,
 "nbformat_minor": 2
}
