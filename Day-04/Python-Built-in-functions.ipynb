{
 "cells": [
  {
   "cell_type": "markdown",
   "metadata": {},
   "source": [
    "# Python Built in functions\n",
    "\n",
    "Python built-in functions are a set of functions that are always available in Python, without needing to import any additional modules. These functions perform common tasks and operations, such as mathematical calculations, type conversions, and data manipulation. Examples include print() for displaying output, len() for getting the length of an object, int() for converting a value to an integer, and sum() for adding up elements in an iterable. Using these built-in functions can help make your code more concise and easier to read."
   ]
  },
  {
   "cell_type": "code",
   "execution_count": 2,
   "metadata": {},
   "outputs": [
    {
     "name": "stdout",
     "output_type": "stream",
     "text": [
      "4\n"
     ]
    }
   ],
   "source": [
    "#Absolute value\n",
    "def absolute_value(num):\n",
    "    if num < 0:\n",
    "        return abs(num)\n",
    "    else:\n",
    "        return num\n",
    "print(absolute_value(-4)) #4   "
   ]
  },
  {
   "cell_type": "markdown",
   "metadata": {},
   "source": [
    "## map() function\n",
    "Use to apply a given function to every item in an iterable ( such as a list, tuple, or other sequence) and return an iterator that contains the results.\n",
    "It's a convenient way to perform an operation on each element of a collection without the need for explicit loops."
   ]
  },
  {
   "cell_type": "code",
   "execution_count": 5,
   "metadata": {},
   "outputs": [
    {
     "name": "stdout",
     "output_type": "stream",
     "text": [
      "<map object at 0x0000027D24C17F40> <class 'map'>\n",
      "[1, 4, 9, 16, 25] <class 'map'>\n"
     ]
    }
   ],
   "source": [
    "# create a function that takes a list of numbers and return the square of each number\n",
    "def cal_square(x):\n",
    "    return x*x;\n",
    "\n",
    "my_list= [1,2,3,4,5];\n",
    "\n",
    "# map() function returns a map object(which is an iterator) of the results after applying the given function to each item of a given iterable (list, tuple etc.)\n",
    "result = map(cal_square, my_list);\n",
    "\n",
    "print(result, type(result));\n",
    "print(list(result), type(result));"
   ]
  },
  {
   "cell_type": "code",
   "execution_count": 11,
   "metadata": {},
   "outputs": [
    {
     "name": "stdout",
     "output_type": "stream",
     "text": [
      "[7, 9, 11, 13, 15]\n"
     ]
    }
   ],
   "source": [
    "# map() with multiple iterables \n",
    "def sum(x,y):\n",
    "    return x+y;\n",
    "\n",
    "my_list1 = [1,2,3,4,5];\n",
    "my_list2 = [6,7,8,9,10];\n",
    "result = map(sum, my_list1, my_list2);\n",
    "\n",
    "print(list(result));"
   ]
  },
  {
   "cell_type": "markdown",
   "metadata": {},
   "source": [
    "* You have a integers representing temperatures in celsius.\n",
    "temperatures = [20,30,25,40,15]\n",
    "write a python program using map() function to convert this temperatures into fahrenhite.use the formula :- \n",
    "Fahrenhite = celcius x 9/5 + 32"
   ]
  },
  {
   "cell_type": "code",
   "execution_count": null,
   "metadata": {},
   "outputs": [
    {
     "name": "stdout",
     "output_type": "stream",
     "text": [
      "[68.0, 86.0, 77.0, 104.0, 59.0]\n"
     ]
    }
   ],
   "source": [
    "def cal_fahrenhite(celsius):\n",
    "    return celsius * (9/5) + 32;\n",
    "\n",
    "temperatures = [20,30,25,40,15]\n",
    "\n",
    "result = map(cal_fahrenhite, temperatures);\n",
    "\n",
    "print(list(result));\n"
   ]
  },
  {
   "cell_type": "markdown",
   "metadata": {},
   "source": [
    "## filter() function\n",
    "\n",
    "The `filter()` function in Python is used to create an iterator that filters elements from an iterable (like a list, tuple, etc.) based on a function that tests each element. The function passed to `filter()` should return `True` or `False` for each element. Only the elements for which the function returns `True` are included in the resulting iterator. This is useful for extracting elements that meet certain criteria without having to write explicit loops."
   ]
  },
  {
   "cell_type": "code",
   "execution_count": 20,
   "metadata": {},
   "outputs": [
    {
     "name": "stdout",
     "output_type": "stream",
     "text": [
      "[2, 4, 6, 8, 10] <class 'filter'>\n"
     ]
    }
   ],
   "source": [
    "def check_even(x):\n",
    "    return x%2 == 0;\n",
    "\n",
    "my_list = [1,2,3,4,5,6,7,8,9,10];\n",
    "\n",
    "result = filter(check_even, my_list); # function & iterable\n",
    "\n",
    "print(list(result), type(result));"
   ]
  }
 ],
 "metadata": {
  "kernelspec": {
   "display_name": "Python 3",
   "language": "python",
   "name": "python3"
  },
  "language_info": {
   "codemirror_mode": {
    "name": "ipython",
    "version": 3
   },
   "file_extension": ".py",
   "mimetype": "text/x-python",
   "name": "python",
   "nbconvert_exporter": "python",
   "pygments_lexer": "ipython3",
   "version": "3.13.0"
  }
 },
 "nbformat": 4,
 "nbformat_minor": 2
}
