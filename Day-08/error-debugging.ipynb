{
 "cells": [
  {
   "cell_type": "markdown",
   "metadata": {},
   "source": [
    "## The Python Degubber\n",
    "\n",
    "The Python debugger, commonly known as `pdb`, is a built-in module that allows developers to set breakpoints, step through code, inspect variables, and evaluate expressions at runtime. It is an essential tool for diagnosing and fixing bugs in Python programs. By using `pdb`, you can pause the execution of your code at specific points, examine the current state, and understand the flow of execution, which helps in identifying the root cause of issues. To use `pdb`, you can insert `import pdb; pdb.set_trace()` at the desired location in your code, or run your script with the `-m pdb` option to start the debugger from the beginning."
   ]
  },
  {
   "cell_type": "code",
   "execution_count": null,
   "metadata": {},
   "outputs": [
    {
     "name": "stdout",
     "output_type": "stream",
     "text": [
      "> \u001b[1;32mc:\\users\\chara\\appdata\\local\\temp\\ipykernel_6708\\3439339823.py\u001b[0m(7)\u001b[0;36m<module>\u001b[1;34m()\u001b[0m\n",
      "\n",
      "2\n",
      "3\n",
      "3\n",
      "3\n",
      "3\n",
      "3\n",
      "3\n",
      "3\n",
      "3\n",
      "3\n",
      "3\n",
      "3\n",
      "3\n",
      "3\n",
      "3\n",
      "3\n",
      "3\n"
     ]
    }
   ],
   "source": [
    "import pdb\n",
    "\n",
    "def multiplication(a, b):\n",
    "    answer = a * b\n",
    "    return answer\n",
    "\n",
    "pdb.set_trace()\n",
    "\n",
    "x = input(\"Enter first number: \")\n",
    "y = input(\"Enter second number: \")\n",
    "\n",
    "mul = multiplication(x, y)\n",
    "print(mul)"
   ]
  }
 ],
 "metadata": {
  "kernelspec": {
   "display_name": "Python 3",
   "language": "python",
   "name": "python3"
  },
  "language_info": {
   "codemirror_mode": {
    "name": "ipython",
    "version": 3
   },
   "file_extension": ".py",
   "mimetype": "text/x-python",
   "name": "python",
   "nbconvert_exporter": "python",
   "pygments_lexer": "ipython3",
   "version": "3.13.1"
  }
 },
 "nbformat": 4,
 "nbformat_minor": 2
}
