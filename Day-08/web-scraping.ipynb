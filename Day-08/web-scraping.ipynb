{
 "cells": [
  {
   "cell_type": "markdown",
   "metadata": {},
   "source": [
    "# Web Scraping\n",
    "\n",
    "Web scraping is a technique used to automatically extract large amounts of data from websites. It involves fetching the web pages and parsing the content to retrieve specific information, such as text, images, or links. This process is often done using programming languages like Python, with libraries such as BeautifulSoup or Scrapy, which help navigate the HTML structure of web pages. Web scraping is useful for tasks like data analysis, price comparison, and gathering information for research, but it's important to respect the website's terms of service and ensure that scraping does not overload the server or violate any legal restrictions."
   ]
  },
  {
   "cell_type": "code",
   "execution_count": 6,
   "metadata": {},
   "outputs": [
    {
     "name": "stdout",
     "output_type": "stream",
     "text": [
      "<Response [200]>\n",
      "200\n",
      "successfully fetch the page\n",
      "{'Date': 'Thu, 09 Jan 2025 04:06:00 GMT', 'Content-Type': 'application/json; charset=utf-8', 'Cache-Control': 'public, max-age=60, s-maxage=60', 'Vary': 'Accept,Accept-Encoding, Accept, X-Requested-With', 'ETag': 'W/\"6056b35b90b428bfe412bfb53bf36b0947393df522570618b8d57d47b3bba807\"', 'Last-Modified': 'Thu, 09 Jan 2025 04:01:00 GMT', 'X-Poll-Interval': '60', 'X-GitHub-Media-Type': 'github.v3; format=json', 'Link': '<https://api.github.com/events?page=2>; rel=\"next\", <https://api.github.com/events?page=10>; rel=\"last\"', 'x-github-api-version-selected': '2022-11-28', 'Access-Control-Expose-Headers': 'ETag, Link, Location, Retry-After, X-GitHub-OTP, X-RateLimit-Limit, X-RateLimit-Remaining, X-RateLimit-Used, X-RateLimit-Resource, X-RateLimit-Reset, X-OAuth-Scopes, X-Accepted-OAuth-Scopes, X-Poll-Interval, X-GitHub-Media-Type, X-GitHub-SSO, X-GitHub-Request-Id, Deprecation, Sunset', 'Access-Control-Allow-Origin': '*', 'Strict-Transport-Security': 'max-age=31536000; includeSubdomains; preload', 'X-Frame-Options': 'deny', 'X-Content-Type-Options': 'nosniff', 'X-XSS-Protection': '0', 'Referrer-Policy': 'origin-when-cross-origin, strict-origin-when-cross-origin', 'Content-Security-Policy': \"default-src 'none'\", 'Content-Encoding': 'gzip', 'Server': 'github.com', 'Accept-Ranges': 'bytes', 'X-RateLimit-Limit': '60', 'X-RateLimit-Remaining': '56', 'X-RateLimit-Reset': '1736398170', 'X-RateLimit-Resource': 'core', 'X-RateLimit-Used': '4', 'Transfer-Encoding': 'chunked', 'X-GitHub-Request-Id': 'B2D6:92C16:460118:525D5A:677F4B27'}\n"
     ]
    }
   ],
   "source": [
    "import requests\n",
    "response = requests.get(\"http://api.github.com/events\")\n",
    "print(response)\n",
    "print(response.status_code)\n",
    "if(response.status_code == 200 ):\n",
    "    print(\"successfully fetch the page\")\n",
    "    print(response.headers)\n",
    "else:\n",
    "    print(\"some error happened while fetching the page\")"
   ]
  }
 ],
 "metadata": {
  "kernelspec": {
   "display_name": "Python 3",
   "language": "python",
   "name": "python3"
  },
  "language_info": {
   "codemirror_mode": {
    "name": "ipython",
    "version": 3
   },
   "file_extension": ".py",
   "mimetype": "text/x-python",
   "name": "python",
   "nbconvert_exporter": "python",
   "pygments_lexer": "ipython3",
   "version": "3.13.1"
  }
 },
 "nbformat": 4,
 "nbformat_minor": 2
}
