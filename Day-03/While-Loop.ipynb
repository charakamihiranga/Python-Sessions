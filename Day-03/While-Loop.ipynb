{
 "cells": [
  {
   "cell_type": "markdown",
   "metadata": {},
   "source": [
    "While Loops : A while loop in Python repeatedly executes a block of code as long as a given condition is true"
   ]
  },
  {
   "cell_type": "code",
   "execution_count": null,
   "metadata": {},
   "outputs": [
    {
     "name": "stdout",
     "output_type": "stream",
     "text": [
      "[1, 4, 9, 16, 25]\n"
     ]
    }
   ],
   "source": [
    "# to take square numbers below the user input and store them in a list\n",
    "num = int(input(\"Enter a number\"))\n",
    "square_numbers = []\n",
    "count = 1\n",
    "temp_squre = 1\n",
    "\n",
    "while(temp_squre <= num) :\n",
    "    square_numbers.append(temp_squre)\n",
    "    count += 1\n",
    "    temp_squre = count * count\n",
    "print(square_numbers)    "
   ]
  },
  {
   "cell_type": "markdown",
   "metadata": {},
   "source": [
    "Existing from a loop using 'break' : The break statement is used to exit a loop before it has finished iterating over all items or conditions."
   ]
  },
  {
   "cell_type": "code",
   "execution_count": null,
   "metadata": {},
   "outputs": [
    {
     "name": "stdout",
     "output_type": "stream",
     "text": [
      "8\n",
      "9\n",
      "3\n"
     ]
    }
   ],
   "source": [
    "# to stop iterating when encounter 0\n",
    "my_list = [8, 9, 3, 0, 12, 15]\n",
    "for item in my_list:\n",
    "    if item == 0:\n",
    "        break\n",
    "    else:\n",
    "        print(item)\n"
   ]
  },
  {
   "cell_type": "markdown",
   "metadata": {},
   "source": [
    "continue keyword : The continue keyword in Python is used inside loops. When the continue statement is encountered, it skips the rest of the code inside the current loop iteration and moves to the next iteration of the loop."
   ]
  },
  {
   "cell_type": "code",
   "execution_count": 18,
   "metadata": {},
   "outputs": [
    {
     "name": "stdout",
     "output_type": "stream",
     "text": [
      "8\n",
      "9\n",
      "3\n",
      "12\n",
      "15\n"
     ]
    }
   ],
   "source": [
    "# to skip iterating when encounter 0\n",
    "my_list = [8, 9, 3, 0, 12, 15]\n",
    "for item in my_list:\n",
    "    if item == 0:\n",
    "        continue\n",
    "    else:\n",
    "        print(item)"
   ]
  },
  {
   "cell_type": "code",
   "execution_count": null,
   "metadata": {},
   "outputs": [
    {
     "name": "stdout",
     "output_type": "stream",
     "text": [
      "100\n",
      "144\n",
      "529\n",
      "1936\n",
      "1089\n",
      "144\n"
     ]
    }
   ],
   "source": [
    "\n",
    "while(True):\n",
    "    user_input = int(input(\"Enter a number\"))\n",
    "    if user_input == 0:\n",
    "        break\n",
    "    else:\n",
    "        print(user_input*user_input)"
   ]
  },
  {
   "cell_type": "code",
   "execution_count": null,
   "metadata": {},
   "outputs": [
    {
     "name": "stdout",
     "output_type": "stream",
     "text": [
      "name John\n",
      "age 36\n",
      "country Norway\n"
     ]
    }
   ],
   "source": [
    "# to print the key and value of a dictionary as a pair\n",
    "person = {\n",
    "    \"name\": \"John\",\n",
    "    \"age\": 36,\n",
    "    \"country\": \"Norway\"\n",
    "}\n",
    "for key, value in person.items():\n",
    "    print(key, value)\n",
    "    "
   ]
  },
  {
   "cell_type": "code",
   "execution_count": null,
   "metadata": {},
   "outputs": [
    {
     "name": "stdout",
     "output_type": "stream",
     "text": [
      "name\n",
      "age\n",
      "country\n"
     ]
    }
   ],
   "source": [
    "# to print the key of a dictionary\n",
    "person = {\n",
    "    \"name\": \"John\",\n",
    "    \"age\": 36,\n",
    "    \"country\": \"Norway\"\n",
    "}\n",
    "for key in person.keys():\n",
    "    print(key)\n",
    "    "
   ]
  },
  {
   "cell_type": "code",
   "execution_count": 3,
   "metadata": {},
   "outputs": [
    {
     "name": "stdout",
     "output_type": "stream",
     "text": [
      "John\n",
      "36\n",
      "Norway\n"
     ]
    }
   ],
   "source": [
    "# to print the values of a dictionary\n",
    "person = {\n",
    "    \"name\": \"John\",\n",
    "    \"age\": 36,\n",
    "    \"country\": \"Norway\"\n",
    "}\n",
    "for value in person.values():\n",
    "    print(value)\n",
    "    "
   ]
  }
 ],
 "metadata": {
  "kernelspec": {
   "display_name": "Python 3",
   "language": "python",
   "name": "python3"
  },
  "language_info": {
   "codemirror_mode": {
    "name": "ipython",
    "version": 3
   },
   "file_extension": ".py",
   "mimetype": "text/x-python",
   "name": "python",
   "nbconvert_exporter": "python",
   "pygments_lexer": "ipython3",
   "version": "3.13.0"
  }
 },
 "nbformat": 4,
 "nbformat_minor": 2
}
