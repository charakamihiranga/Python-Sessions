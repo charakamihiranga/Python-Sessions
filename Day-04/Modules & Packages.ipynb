{
 "cells": [
  {
   "cell_type": "markdown",
   "metadata": {},
   "source": [
    "# Modules and Packages\n",
    "\n",
    "In Python, a module is a single file containing Python code that can define functions, classes, and variables. It can also include runnable code. Modules help in organizing code into manageable sections and promote code reuse. A package, on the other hand, is a collection of related modules bundled together within a directory. Each package contains a special `__init__.py` file, which indicates to Python that the directory should be treated as a package. Packages allow for a hierarchical structuring of the module namespace, making it easier to manage large codebases by logically grouping related modules together."
   ]
  }
 ],
 "metadata": {
  "language_info": {
   "name": "python"
  }
 },
 "nbformat": 4,
 "nbformat_minor": 2
}
