{
 "cells": [
  {
   "cell_type": "markdown",
   "metadata": {},
   "source": [
    "# Lambda Functions\n",
    "\n",
    " Python lambda functions are small, anonymous functions defined using the `lambda` keyword. Unlike regular functions defined with `def`, lambda functions are written in a single line and can have any number of arguments but only one expression. The syntax is `lambda arguments: expression`. They are often used for short, throwaway functions that are not reused elsewhere in the code, such as in functional programming constructs like `map()`, `filter()`, and `sorted()`. For example, `lambda x: x + 1` is a lambda function that takes one argument `x` and returns `x + 1`."
   ]
  },
  {
   "cell_type": "code",
   "execution_count": null,
   "metadata": {},
   "outputs": [
    {
     "name": "stdout",
     "output_type": "stream",
     "text": [
      "5\n",
      "5\n"
     ]
    }
   ],
   "source": [
    "add = lambda x,y : x + y; # lambda function\n",
    "result = (lambda x,y : x + y)(2,3); # directly calling lambda function\n",
    "print(add(2,3));\n",
    "print(result);"
   ]
  },
  {
   "cell_type": "markdown",
   "metadata": {},
   "source": [
    "* write a lambda function to return the power of 2 of a given number"
   ]
  },
  {
   "cell_type": "code",
   "execution_count": 6,
   "metadata": {},
   "outputs": [
    {
     "name": "stdout",
     "output_type": "stream",
     "text": [
      "100\n"
     ]
    }
   ],
   "source": [
    "result = (lambda x : x ** 2)(10);\n",
    "print(result);"
   ]
  },
  {
   "cell_type": "markdown",
   "metadata": {},
   "source": [
    "* write a python program that,\n",
    "    1. take a list of tuples where each tuple contains a name(String) & age(integer).\n",
    "    2. use a lambda function to filterout the tuples where the age is less than 18."
   ]
  },
  {
   "cell_type": "code",
   "execution_count": null,
   "metadata": {},
   "outputs": [
    {
     "name": "stdout",
     "output_type": "stream",
     "text": [
      "[('Alice', 25), ('Andrew', 35)]\n"
     ]
    }
   ],
   "source": [
    "people = [(\"Alice\", 25), (\"John\", 17), (\"Andrew\", 35), (\"Kate\", 15)];\n",
    "\n",
    "filter_age = lambda people : people[1] >= 18;\n",
    "\n",
    "filtered_people = list(filter(filter_age, people));\n",
    "\n",
    "print(filtered_people);\n",
    "\n"
   ]
  },
  {
   "cell_type": "code",
   "execution_count": null,
   "metadata": {},
   "outputs": [
    {
     "name": "stdout",
     "output_type": "stream",
     "text": [
      "6\n"
     ]
    }
   ],
   "source": [
    "# anonymous function inside another function\n",
    "def my_func(n):\n",
    "    return lambda a : a * n; #retunring a lambda function with n as parameter\n",
    "\n",
    "my_doubler = my_func(2); # returns a lambda function with n = 2\n",
    "\n",
    "print(my_doubler(3));"
   ]
  },
  {
   "cell_type": "code",
   "execution_count": null,
   "metadata": {},
   "outputs": [
    {
     "name": "stdout",
     "output_type": "stream",
     "text": [
      "100\n"
     ]
    }
   ],
   "source": [
    "\n",
    "find_max = lambda x,y : x if x > y else y;\n",
    "print(find_max(100 ,20));"
   ]
  }
 ],
 "metadata": {
  "kernelspec": {
   "display_name": "Python 3",
   "language": "python",
   "name": "python3"
  },
  "language_info": {
   "codemirror_mode": {
    "name": "ipython",
    "version": 3
   },
   "file_extension": ".py",
   "mimetype": "text/x-python",
   "name": "python",
   "nbconvert_exporter": "python",
   "pygments_lexer": "ipython3",
   "version": "3.13.0"
  }
 },
 "nbformat": 4,
 "nbformat_minor": 2
}
