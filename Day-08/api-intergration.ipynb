{
 "cells": [
  {
   "cell_type": "markdown",
   "metadata": {},
   "source": [
    "## API Intergration"
   ]
  },
  {
   "cell_type": "code",
   "execution_count": 26,
   "metadata": {},
   "outputs": [
    {
     "name": "stdout",
     "output_type": "stream",
     "text": [
      "fetched data successfully\n",
      "{'latitude': 6.875, 'longitude': 79.875, 'generationtime_ms': 0.028967857360839844, 'utc_offset_seconds': 0, 'timezone': 'GMT', 'timezone_abbreviation': 'GMT', 'elevation': 9.0, 'current_units': {'time': 'iso8601', 'interval': 'seconds', 'temperature_2m': '°C', 'wind_speed_10m': 'km/h'}, 'current': {'time': '2025-01-09T08:30', 'interval': 900, 'temperature_2m': 32.8, 'wind_speed_10m': 6.8}}\n"
     ]
    }
   ],
   "source": [
    "import requests\n",
    "\n",
    "base_url = 'https://api.open-meteo.com/v1/forecast'\n",
    "\n",
    "params = {\n",
    "    'latitude': 6.9271,\n",
    "    'longitude': 79.8612,\n",
    "    'current': 'temperature_2m,wind_speed_10m'\n",
    "}\n",
    "\n",
    "response = requests.get(base_url, params=params)\n",
    "if response.status_code == 200:\n",
    "    print('fetched data successfully')\n",
    "    print(response.json())\n",
    "else: \n",
    "    print('Error: ', response.status_code)    "
   ]
  },
  {
   "cell_type": "code",
   "execution_count": 39,
   "metadata": {},
   "outputs": [
    {
     "name": "stdout",
     "output_type": "stream",
     "text": [
      "fetched data successfully\n",
      "Temperature:  32.0 °C\n",
      "Wind Speed:  8.2 km/h\n"
     ]
    }
   ],
   "source": [
    "# Function to fetch weather data\n",
    "def fetch_weather_data(latitude, longitude, current_info ='temperature_2m,wind_speed_10m'):\n",
    "    base_url = 'https://api.open-meteo.com/v1/forecast'\n",
    "    params = {\n",
    "        'latitude': latitude,\n",
    "        'longitude': longitude,\n",
    "        'current': current_info\n",
    "    }\n",
    "\n",
    "    response = requests.get(base_url, params=params)\n",
    "    \n",
    "    if response.status_code == 200:\n",
    "        print('fetched data successfully')\n",
    "        pass_weather_data(response.json())\n",
    "    else: \n",
    "        print('Error: ', response.status_code)\n",
    "\n",
    "# Function to show weather data    \n",
    "def pass_weather_data(data):\n",
    "    if data is not None and 'current' in data: \n",
    "        print('Temperature: ', data['current']['temperature_2m'], '°C')\n",
    "        print('Wind Speed: ', data['current']['wind_speed_10m'], 'km/h')\n",
    "    else:\n",
    "        print('cannot show data')\n",
    "\n",
    "\n",
    "data = fetch_weather_data(6.9271, 79.8612, 'temperature_2m,wind_speed_10m')\n"
   ]
  }
 ],
 "metadata": {
  "kernelspec": {
   "display_name": "Python 3",
   "language": "python",
   "name": "python3"
  },
  "language_info": {
   "codemirror_mode": {
    "name": "ipython",
    "version": 3
   },
   "file_extension": ".py",
   "mimetype": "text/x-python",
   "name": "python",
   "nbconvert_exporter": "python",
   "pygments_lexer": "ipython3",
   "version": "3.13.1"
  }
 },
 "nbformat": 4,
 "nbformat_minor": 2
}
