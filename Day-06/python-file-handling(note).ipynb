{
 "cells": [
  {
   "cell_type": "markdown",
   "metadata": {},
   "source": [
    "## How to write to a file in python"
   ]
  },
  {
   "cell_type": "code",
   "execution_count": 2,
   "metadata": {},
   "outputs": [],
   "source": [
    "with open(\"writeExample.txt\", \"w\") as file: \n",
    "    file.write(\"Hello World\\n\")\n",
    "    file.write(\"This is our new text file\\n\")\n",
    "    file.write(\"and this is another line.\")"
   ]
  },
  {
   "cell_type": "code",
   "execution_count": 5,
   "metadata": {},
   "outputs": [],
   "source": [
    "with open (\"writeExample.txt\", \"w\") as file:\n",
    "    file.writelines([\"Hello World\\n\", \"This is our new text file\\n\", \"and this is another line.\"])"
   ]
  },
  {
   "cell_type": "markdown",
   "metadata": {},
   "source": [
    "### Exercise 1 - Simple contact management system\n",
    "\n",
    " = create a programm that store and manage contacts in a file name \"contacts.txt\" \n",
    " = each contact entry should have name, phone number, email\n",
    " * feature to implement \n",
    " = view all contacts : read and display all contacts from the file \n",
    " = add a new contact : append a contact to the file\n",
    " = exit : exit from the program\n",
    "\n",
    " structure of contacts .txt => \n",
    "    * John Doe, 12345678, johndoe@example.com\n",
    "    * Kate Ferry, 7523541, kate@example.com"
   ]
  },
  {
   "cell_type": "code",
   "execution_count": null,
   "metadata": {},
   "outputs": [
    {
     "name": "stdout",
     "output_type": "stream",
     "text": [
      "Invalid input\n",
      "exiting from the program...\n"
     ]
    }
   ],
   "source": [
    "\n",
    "def add_contact():\n",
    "    with open(\"contacts.txt\", \"a\") as file:\n",
    "        name = input(\"Enter name: \")\n",
    "        number = input(\"Enter number: \")\n",
    "        email = input(\"Enter email: \")\n",
    "        file.write(f\"{name}, {number}, {email}\\n\")\n",
    "        \n",
    "def view_all_contacts():\n",
    "    all_contacts = []\n",
    "    with open(\"contacts.txt\", \"r\") as file:\n",
    "        for line in file:\n",
    "            all_contacts.append(line.strip())\n",
    "    for contact in all_contacts:\n",
    "        print(contact)        \n",
    "\n",
    "while (True) :\n",
    "    userInput = int(input())\n",
    "    if userInput == 3:\n",
    "        print('exiting from the program...')\n",
    "        break\n",
    "    if userInput == 1:\n",
    "        view_all_contacts()\n",
    "    if userInput == 2:\n",
    "        add_contact()\n",
    "    else:\n",
    "        print(\"Invalid input\")\n",
    "       \n"
   ]
  },
  {
   "cell_type": "markdown",
   "metadata": {},
   "source": [
    "## Reading JSON Data"
   ]
  },
  {
   "cell_type": "code",
   "execution_count": 10,
   "metadata": {},
   "outputs": [
    {
     "name": "stdout",
     "output_type": "stream",
     "text": [
      "{'fruit': 'Apple', 'size': 'Large', 'color': 'Red'}\n",
      "<class 'dict'>\n",
      "fruit : Apple\n",
      "size : Large\n",
      "color : Red\n"
     ]
    }
   ],
   "source": [
    "import json\n",
    "\n",
    "json_file_path = \"json-example/fruits.json\"\n",
    "\n",
    "with open(json_file_path, \"r\") as file:\n",
    "    fruits = json.load(file)\n",
    "    print(fruits) \n",
    "    print(type(fruits)) # returns <class 'dict'> (dictionary)\n",
    "    \n",
    "    for key, value in fruits.items():\n",
    "        print(key + \" : \" +value)"
   ]
  },
  {
   "cell_type": "markdown",
   "metadata": {},
   "source": [
    "## Writing JSON Data"
   ]
  },
  {
   "cell_type": "code",
   "execution_count": 15,
   "metadata": {},
   "outputs": [
    {
     "name": "stdout",
     "output_type": "stream",
     "text": [
      "JSON data has been written to {\n",
      "    \"name \": \"John\",\n",
      "    \"age\": 30,\n",
      "    \"city\": \"New York\"\n",
      "}\n"
     ]
    }
   ],
   "source": [
    "import json\n",
    "\n",
    "data = {\n",
    "    \"name \": \"John\",\n",
    "    \"age\": 30,\n",
    "    \"city\": \"New York\"\n",
    "}\n",
    "\n",
    "json_file_path = \"json-example/my_data.json\"\n",
    "\n",
    "with open(json_file_path, \"w\") as file:\n",
    "    json_data = json.dumps(data, indent=4) # indent=4 is used to format the JSON data with 4 spaces\n",
    "    file.write(json_data)\n",
    "\n",
    "print(f\"JSON data has been written to {json_data}\")    \n"
   ]
  },
  {
   "cell_type": "markdown",
   "metadata": {},
   "source": [
    "### Exercise 2\n",
    "You are given a JSON file name \"students.json\" which contains information about students and their grades.your task is to \n",
    "1. read the JSON file\n",
    "2. Display the name of all students who scored above 75\n",
    "3. add a new student record to the file \n",
    "4. save the updated data back to the JSON file "
   ]
  },
  {
   "cell_type": "code",
   "execution_count": 33,
   "metadata": {},
   "outputs": [
    {
     "name": "stdout",
     "output_type": "stream",
     "text": [
      "Allice\n",
      "Charlie\n",
      "Jane\n"
     ]
    }
   ],
   "source": [
    "import json\n",
    "\n",
    "json_file_path = \"json-example/students.json\"\n",
    "\n",
    "\n",
    "with open(json_file_path, \"r\") as file:\n",
    "    students = json.load(file)\n",
    "    for student in students:\n",
    "        if student [\"grade\"] > 75 :\n",
    "            print(student[\"name\"])\n",
    "\n",
    "with open(json_file_path, \"w\") as file:\n",
    "    new = {\n",
    "        \"name\": \"Jane\",\n",
    "        \"grade\": 80\n",
    "    }\n",
    "    students.append(new)\n",
    "    json.dump(students, file, indent=2)\n",
    "\n",
    "\n",
    "\n"
   ]
  }
 ],
 "metadata": {
  "kernelspec": {
   "display_name": "Python 3",
   "language": "python",
   "name": "python3"
  },
  "language_info": {
   "codemirror_mode": {
    "name": "ipython",
    "version": 3
   },
   "file_extension": ".py",
   "mimetype": "text/x-python",
   "name": "python",
   "nbconvert_exporter": "python",
   "pygments_lexer": "ipython3",
   "version": "3.12.6"
  }
 },
 "nbformat": 4,
 "nbformat_minor": 2
}
