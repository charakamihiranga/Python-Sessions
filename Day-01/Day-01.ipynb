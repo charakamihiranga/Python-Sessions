{
 "cells": [
  {
   "cell_type": "code",
   "execution_count": 2,
   "metadata": {},
   "outputs": [
    {
     "name": "stdout",
     "output_type": "stream",
     "text": [
      "Hello\n"
     ]
    }
   ],
   "source": [
    "print(\"Hello\");"
   ]
  },
  {
   "cell_type": "code",
   "execution_count": 3,
   "metadata": {},
   "outputs": [
    {
     "name": "stdout",
     "output_type": "stream",
     "text": [
      "200\n"
     ]
    }
   ],
   "source": [
    "a = 10;\n",
    "b = 20;\n",
    "print(a*b);"
   ]
  },
  {
   "cell_type": "code",
   "execution_count": 2,
   "metadata": {},
   "outputs": [
    {
     "name": "stdout",
     "output_type": "stream",
     "text": [
      "5\n",
      "<class 'int'>\n"
     ]
    }
   ],
   "source": [
    "#The class of a is int\n",
    "a = 5;\n",
    "print(a);\n",
    "print(type(a));"
   ]
  },
  {
   "cell_type": "code",
   "execution_count": 3,
   "metadata": {},
   "outputs": [
    {
     "name": "stdout",
     "output_type": "stream",
     "text": [
      "True <class 'bool'>\n",
      "The type of variable having True is <class 'bool'>\n"
     ]
    }
   ],
   "source": [
    "#we can parse unlimited number of arguments to print func tion using comma\n",
    "a = True;\n",
    "print(a,type(a));\n",
    "print(\"The type of variable having\", a ,\"is\" , type(a));"
   ]
  },
  {
   "cell_type": "code",
   "execution_count": 4,
   "metadata": {},
   "outputs": [
    {
     "name": "stdout",
     "output_type": "stream",
     "text": [
      "25000.0 <class 'float'>\n"
     ]
    }
   ],
   "source": [
    "#Scientific notation\n",
    "a = 2.5e4;\n",
    "print(a, type(a));"
   ]
  },
  {
   "cell_type": "code",
   "execution_count": 5,
   "metadata": {},
   "outputs": [
    {
     "name": "stdout",
     "output_type": "stream",
     "text": [
      "5.0 <class 'float'>\n"
     ]
    }
   ],
   "source": [
    "#float to int\n",
    "a = 5;\n",
    "b = float(a);\n",
    "print(b, type(b));"
   ]
  },
  {
   "cell_type": "code",
   "execution_count": 6,
   "metadata": {},
   "outputs": [
    {
     "name": "stdout",
     "output_type": "stream",
     "text": [
      "7 <class 'int'>\n"
     ]
    }
   ],
   "source": [
    "#int to float\n",
    "c = 7.0;\n",
    "d = int(c);\n",
    "print(d, type(d));"
   ]
  },
  {
   "cell_type": "code",
   "execution_count": 7,
   "metadata": {},
   "outputs": [
    {
     "name": "stdout",
     "output_type": "stream",
     "text": [
      "[10, 20, 30, 'Call', 50, True]\n",
      "Call\n",
      "<class 'list'>\n",
      "[10, 'Dog', 30, 'Call', 50, True]\n",
      "6\n",
      "True\n",
      "50\n",
      "['Dog', 30, 'Call'] <class 'list'>\n",
      "[10, 'Dog', 30] <class 'list'>\n",
      "['Call', 50, True] <class 'list'>\n",
      "[10, 'Parrot', 17.0, 'Dog', True]\n",
      "[10, 'Parrot', 'Rat', 17.0, 'Dog', True]\n",
      "[10, 'Parrot', 'Rat', 17.0, 'Dog', True, 'Carrot']\n",
      "[10, 'Parrot', 'Rat', 17.0, 'Dog', True, 'Carrot', 'John', 3, False]\n",
      "10\n",
      "9\n",
      "[10, 'Parrot', 17.0, 'Dog', True, 'Carrot', 'John', 3, False]\n",
      "[10, 'Parrot', 'Dog', True, 'Carrot', 'John', 3, False]\n"
     ]
    }
   ],
   "source": [
    "my_list = [10, 20, 30, \"Call\", 50, True];#python list allow duplicate values\n",
    "print(my_list);\n",
    "print(my_list[3]);\n",
    "print(type(my_list));\n",
    "\n",
    "my_list[1] = \"Dog\";\n",
    "print(my_list);\n",
    "\n",
    "#list length\n",
    "print(len(my_list))\n",
    "print(my_list[-1])#last element\n",
    "print(my_list[-2])#second last element\n",
    "print(my_list[1:4], type(my_list[1:4])) #slicing\n",
    "print(my_list[:3], type(my_list[:3])) #slicing\n",
    "print(my_list[3:], type(my_list[3:]))#printing from 3rd index to end \n",
    "\n",
    "my_list = [10, 5, \"Cat\", \"Dog\", True];\n",
    "my_list[1:3] = [\"Parrot\", 17.0]\n",
    "print(my_list)\n",
    "\n",
    "my_list.insert(2, \"Rat\")\n",
    "print(my_list)\n",
    "\n",
    "my_list.append(\"Carrot\")\n",
    "print(my_list) #append at the end\n",
    "\n",
    "my_list_1 = [\"John\", 3, False]\n",
    "my_list.extend(my_list_1)\n",
    "print(my_list)\n",
    "print(len(my_list))\n",
    "\n",
    "my_list.pop(2) #remove by index\n",
    "print(len(my_list))\n",
    "print(my_list)\n",
    "\n",
    "del my_list[2] #delete by index\n",
    "print(my_list)\n",
    "\n",
    "del my_list  #delete the entire list\n",
    "#print(my_list) #Error: not defined\n",
    "\n"
   ]
  },
  {
   "cell_type": "code",
   "execution_count": 8,
   "metadata": {},
   "outputs": [
    {
     "name": "stdout",
     "output_type": "stream",
     "text": [
      "[] 0\n",
      "['Cat', 'Dog', 'Man', 'apple', 'grapes']\n",
      "['apple', 'Cat', 'Dog', 'grapes', 'Man']\n",
      "[3, 5, 8, 10, 25]\n",
      "[25, 10, 8, 5, 3]\n"
     ]
    }
   ],
   "source": [
    "my_list = [10, 5, \"Cat\", \"Dog\", True]\n",
    "my_list.clear()\n",
    "print(my_list, len(my_list))\n",
    "\n",
    "my_list = [\"grapes\", \"apple\", \"Cat\", \"Dog\", \"Man\"]\n",
    "my_list.sort() #by default case sensitive sorting\n",
    "print(my_list)\n",
    "\n",
    "my_list.sort(key=str.lower) #case insensitive sorting\n",
    "print(my_list)\n",
    "\n",
    "my_list_1 = [5, 3, 10, 25, 8]\n",
    "my_list_1.sort() #by default ascending order\n",
    "print(my_list_1)\n",
    "\n",
    "my_list_1.sort(reverse=True) #descending order\n",
    "print(my_list_1)\n",
    "\n",
    "\n"
   ]
  },
  {
   "cell_type": "code",
   "execution_count": 9,
   "metadata": {},
   "outputs": [
    {
     "name": "stdout",
     "output_type": "stream",
     "text": [
      "11\n",
      "7\n",
      "4\n",
      "4\n"
     ]
    }
   ],
   "source": [
    "my_list_1 = [12, 10, 13, 4, 1, 5]\n",
    "my_list_2 = [6, 1, 7, 8, 10]\n",
    "\n",
    "my_list_1.extend(my_list_2)\n",
    "print(len(my_list_1))\n",
    "my_list_1.sort()\n",
    "\n",
    "print(my_list_1[(len(my_list_1)) // 2])\n",
    "\n",
    "print(my_list_1[(len(my_list_1)) // 4])\n",
    "\n",
    "print(my_list_1[((len(my_list_1)) // 4)])\n"
   ]
  }
 ],
 "metadata": {
  "kernelspec": {
   "display_name": "Python 3",
   "language": "python",
   "name": "python3"
  },
  "language_info": {
   "codemirror_mode": {
    "name": "ipython",
    "version": 3
   },
   "file_extension": ".py",
   "mimetype": "text/x-python",
   "name": "python",
   "nbconvert_exporter": "python",
   "pygments_lexer": "ipython3",
   "version": "3.13.0"
  }
 },
 "nbformat": 4,
 "nbformat_minor": 2
}
