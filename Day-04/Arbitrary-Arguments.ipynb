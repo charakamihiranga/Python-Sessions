{
 "cells": [
  {
   "cell_type": "markdown",
   "metadata": {},
   "source": [
    "# Arbitrary Arguments\n",
    "mainly there ae two types\n",
    "1. Arbitrary positional arguments(*args)\n",
    "2. Arbitraty keyword arguments(**kwargs)"
   ]
  },
  {
   "cell_type": "markdown",
   "metadata": {},
   "source": [
    "## Arbitrary positional arguments(*args) \n",
    "Arbitrary positional arguments allow a function to accept any number of positional arguments. These arguments are captured as a tuple and can be accessed within the function. This is useful when you do not know beforehand how many arguments might be passed to your function.\n",
    "\n",
    "### if you don't know the number of parameters "
   ]
  },
  {
   "cell_type": "code",
   "execution_count": null,
   "metadata": {},
   "outputs": [
    {
     "name": "stdout",
     "output_type": "stream",
     "text": [
      "(1, 2, 3, 4, 5) <class 'tuple'>\n"
     ]
    }
   ],
   "source": [
    "def arbitrary_positional_argumets(*args): # tuple\n",
    "    print(args, type(args))\n",
    "\n",
    "arbitrary_positional_argumets(1, 2, 3, 4, 5) "
   ]
  },
  {
   "cell_type": "code",
   "execution_count": null,
   "metadata": {},
   "outputs": [
    {
     "name": "stdout",
     "output_type": "stream",
     "text": [
      "1\n",
      "2\n",
      "3\n",
      "4\n",
      "5\n"
     ]
    }
   ],
   "source": [
    "def print_args(*args):\n",
    "    for arg in args:\n",
    "        print(arg)\n",
    "\n",
    "print_args(1, 2, 3, 4, 5) "
   ]
  },
  {
   "cell_type": "markdown",
   "metadata": {},
   "source": [
    "* write a python function call \"summerize_grades\" that accept a student name as a mandatory argument and an arbitrary number of grade scores. the function should, \n",
    "    1. print the student's name\n",
    "    2. calculate and print the highest grade, lowest grade and the average grade\n",
    "    from the provided scores\n",
    "    3. if no grades are provided you should print \"no grades available\""
   ]
  },
  {
   "cell_type": "code",
   "execution_count": 19,
   "metadata": {},
   "outputs": [
    {
     "name": "stdout",
     "output_type": "stream",
     "text": [
      "No grades available\n"
     ]
    }
   ],
   "source": [
    "def summerize_grades(name, *marks):\n",
    "    if not marks: # not means empty\n",
    "        print(\"No grades available\");\n",
    "        return;\n",
    "    print(\"Student name: \", name);\n",
    "    print(\"Highest grade: \", max(marks));\n",
    "    print(\"Lowest grade: \", min(marks));\n",
    "    print(\"Average grade: \", int(sum(marks)/len(marks)));\n",
    "\n",
    "# summerize_grades(\"abc\", 90, 80, 70, 60, 50, 98);\n",
    "summerize_grades(\"abc\"); # No grades available"
   ]
  }
 ],
 "metadata": {
  "kernelspec": {
   "display_name": "Python 3",
   "language": "python",
   "name": "python3"
  },
  "language_info": {
   "codemirror_mode": {
    "name": "ipython",
    "version": 3
   },
   "file_extension": ".py",
   "mimetype": "text/x-python",
   "name": "python",
   "nbconvert_exporter": "python",
   "pygments_lexer": "ipython3",
   "version": "3.13.0"
  }
 },
 "nbformat": 4,
 "nbformat_minor": 2
}
