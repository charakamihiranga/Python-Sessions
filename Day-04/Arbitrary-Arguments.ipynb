{
 "cells": [
  {
   "cell_type": "markdown",
   "metadata": {},
   "source": [
    "# Arbitrary Arguments\n",
    "mainly there ae two types\n",
    "1. Arbitrary positional arguments(*args)\n",
    "2. Arbitraty keyword arguments(**kwargs)"
   ]
  },
  {
   "cell_type": "markdown",
   "metadata": {},
   "source": [
    "## Arbitrary positional arguments(*args) \n",
    "Arbitrary positional arguments allow a function to accept any number of positional arguments. These arguments are captured as a tuple and can be accessed within the function. This is useful when you do not know beforehand how many arguments might be passed to your function.\n",
    "\n",
    "### if you don't know the number of parameters "
   ]
  },
  {
   "cell_type": "code",
   "execution_count": null,
   "metadata": {},
   "outputs": [
    {
     "name": "stdout",
     "output_type": "stream",
     "text": [
      "(1, 2, 3, 4, 5) <class 'tuple'>\n"
     ]
    }
   ],
   "source": [
    "def arbitrary_positional_argumets(*args): # tuple\n",
    "    print(args, type(args))\n",
    "\n",
    "arbitrary_positional_argumets(1, 2, 3, 4, 5) "
   ]
  },
  {
   "cell_type": "code",
   "execution_count": null,
   "metadata": {},
   "outputs": [
    {
     "name": "stdout",
     "output_type": "stream",
     "text": [
      "1\n",
      "2\n",
      "3\n",
      "4\n",
      "5\n"
     ]
    }
   ],
   "source": [
    "def print_args(*args):\n",
    "    for arg in args:\n",
    "        print(arg)\n",
    "\n",
    "print_args(1, 2, 3, 4, 5) "
   ]
  },
  {
   "cell_type": "markdown",
   "metadata": {},
   "source": [
    "* write a python function call \"summerize_grades\" that accept a student name as a mandatory argument and an arbitrary number of grade scores. the function should, \n",
    "    1. print the student's name\n",
    "    2. calculate and print the highest grade, lowest grade and the average grade\n",
    "    from the provided scores\n",
    "    3. if no grades are provided you should print \"no grades available\""
   ]
  },
  {
   "cell_type": "code",
   "execution_count": 19,
   "metadata": {},
   "outputs": [
    {
     "name": "stdout",
     "output_type": "stream",
     "text": [
      "No grades available\n"
     ]
    }
   ],
   "source": [
    "def summerize_grades(name, *marks):\n",
    "    if not marks: # not means empty\n",
    "        print(\"No grades available\");\n",
    "        return;\n",
    "    print(\"Student name: \", name);\n",
    "    print(\"Highest grade: \", max(marks));\n",
    "    print(\"Lowest grade: \", min(marks));\n",
    "    print(\"Average grade: \", int(sum(marks)/len(marks)));\n",
    "\n",
    "# summerize_grades(\"abc\", 90, 80, 70, 60, 50, 98);\n",
    "summerize_grades(\"abc\"); # No grades available"
   ]
  },
  {
   "cell_type": "markdown",
   "metadata": {},
   "source": [
    "## Arbitrary Keyword Arguments (**kwargs)\n",
    "\n",
    "Arbitrary keyword arguments, often referred to as **kwargs in Python, allow a function to accept an arbitrary number of keyword arguments. This means you can pass a variable number of named arguments to a function, and they will be captured in a dictionary. This is useful when you don't know in advance how many keyword arguments will be passed to your function. Inside the function, you can access these arguments using the dictionary's keys and values\n"
   ]
  },
  {
   "cell_type": "code",
   "execution_count": null,
   "metadata": {},
   "outputs": [
    {
     "name": "stdout",
     "output_type": "stream",
     "text": [
      "name : Charaka\n",
      "age : 21\n",
      "city : Galle\n"
     ]
    }
   ],
   "source": [
    "def arbitrary_keyword_arguments(**kwargs): # dictionary\n",
    "    for key, value in kwargs.items(): # dictionary.items() returns a list of tuples(dictionary unpacking)\n",
    "        print(key,\":\",value)\n",
    "\n",
    "arbitrary_keyword_arguments(name=\"Charaka\", age=21, city=\"Galle\")"
   ]
  },
  {
   "cell_type": "markdown",
   "metadata": {},
   "source": [
    "* write a python function call \"employee_info\" that accept a required name parameter and an arbitrary number of keyword arguments representing additional details about the employee.the function should, \n",
    "    1. print the employee's name\n",
    "    2. iterate through the keyword arguments and print each key-value pair in the format \"<key>:<value>\"\n",
    "    3. bonus Q - modify the employee_info function to return a dictionary containing all the employee details (including name & the additional attributes passed via kwargs) "
   ]
  },
  {
   "cell_type": "code",
   "execution_count": null,
   "metadata": {},
   "outputs": [
    {
     "name": "stdout",
     "output_type": "stream",
     "text": [
      "Employee name:  Charaka\n",
      "age : 21\n",
      "city : Galle\n",
      "{'name': 'Charaka', 'age': 21, 'city': 'Galle'}\n"
     ]
    }
   ],
   "source": [
    "def employee_info(name, **kwargs):\n",
    "    print(\"Employee name: \", name);\n",
    "    for key, value in kwargs.items():\n",
    "        print(key,\":\",value);\n",
    "    \n",
    "    # returning employee details as a dictionary\n",
    "    employee_details = {\"name\": name};\n",
    "    employee_details.update(kwargs);\n",
    "    return employee_details;\n",
    " \n",
    "# employee_info(\"Charaka\", age=21, city=\"Galle\");\n",
    "print(employee_info(\"Charaka\", age=21, city=\"Galle\"));"
   ]
  }
 ],
 "metadata": {
  "kernelspec": {
   "display_name": "Python 3",
   "language": "python",
   "name": "python3"
  },
  "language_info": {
   "codemirror_mode": {
    "name": "ipython",
    "version": 3
   },
   "file_extension": ".py",
   "mimetype": "text/x-python",
   "name": "python",
   "nbconvert_exporter": "python",
   "pygments_lexer": "ipython3",
   "version": "3.13.0"
  }
 },
 "nbformat": 4,
 "nbformat_minor": 2
}
