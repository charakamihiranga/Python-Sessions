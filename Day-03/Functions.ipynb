{
 "cells": [
  {
   "cell_type": "markdown",
   "metadata": {},
   "source": [
    "# Funtions & Functional Programming\n",
    "\n",
    "##  Functions\n",
    "\n",
    "Functions are reusable blocks of code that perform a specific task. They help in organizing code, making it more readable and maintainable. In most programming languages, functions can take inputs (called parameters) and return outputs (results).\n",
    "\n",
    "## Functional Programming \n",
    "Functional programming is a programming paradigm where programs are constructed by applying and composing functions. It emphasizes the use of pure functions (functions without side effects) and avoids changing state or mutable data.\n",
    "\n",
    "### Key Concepts:\n",
    "= Pure Functions: Always produce the same output for the same input and have no side effects.\n",
    "= First-Class Functions: Functions are treated as first-class citizens, meaning they can be passed as arguments, returned from other functions, and  assigned to variables.\n",
    "= Higher-Order Functions: Functions that take other functions as arguments or return them as results."
   ]
  },
  {
   "cell_type": "code",
   "execution_count": 3,
   "metadata": {},
   "outputs": [
    {
     "name": "stdout",
     "output_type": "stream",
     "text": [
      "40\n"
     ]
    }
   ],
   "source": [
    "# to calculate the perimetere of a rectangle\n",
    "def calculate_perimetere(width, height):\n",
    "    circumference = 2*(width+height)\n",
    "    return circumference\n",
    "\n",
    "width = int(input(\"Enter width\"))\n",
    "height = int(input(\"Enter height\"))\n",
    "\n",
    "print(calculate_perimetere(width, height))    "
   ]
  },
  {
   "cell_type": "code",
   "execution_count": null,
   "metadata": {
    "vscode": {
     "languageId": "markdown"
    }
   },
   "outputs": [],
   "source": [
    "Parameters and arguments are fundamental concepts in programming, especially when working with functions.\n",
    "\n",
    "Parameters are the variables listed inside the parentheses in the function definition. They act as placeholders for the values that will be passed to the function. Think of parameters as the names of the data your function expects to receive.\n",
    "\n",
    "Arguments, on the other hand, are the actual values you pass to the function when you call it. These values are assigned to the corresponding parameters in the function definition.\n",
    "\n",
    "In summary, parameters are used when defining a function to specify what kind of data the function can accept, while arguments are the actual data you provide when you call the function."
   ]
  },
  {
   "cell_type": "code",
   "execution_count": null,
   "metadata": {},
   "outputs": [
    {
     "name": "stdout",
     "output_type": "stream",
     "text": [
      "452.16\n"
     ]
    }
   ],
   "source": [
    "#to calculate the area of a circle\n",
    "pi_value = 3.14\n",
    "\n",
    "def calculate_circle_area(radius):\n",
    "    return pi_value*(radius**2)\n",
    "\n",
    "radius = int(input(\"Enter radius\"))\n",
    "\n",
    "print(calculate_circle_area(radius))\n"
   ]
  },
  {
   "cell_type": "markdown",
   "metadata": {},
   "source": [
    "# Default arguments\n",
    "A default argument is a parameter that assumes a default value if a value is not provided in the function call for that argument .\n",
    "Any number of arguments in a function can have a default value.But once we have a default argument, all the arguments to its right must also have default values"
   ]
  },
  {
   "cell_type": "code",
   "execution_count": null,
   "metadata": {},
   "outputs": [
    {
     "name": "stdout",
     "output_type": "stream",
     "text": [
      "7\n",
      "10\n"
     ]
    }
   ],
   "source": [
    "def add_numbers(a,b=5): # default argument: must be on the right side \n",
    "    return a+b\n",
    "\n",
    "print(add_numbers(2))\n",
    "print(add_numbers(4, 6))"
   ]
  },
  {
   "cell_type": "markdown",
   "metadata": {},
   "source": [
    "# Positional arguments\n",
    "\n",
    "Positional arguments are a type if function arguments in python where the values are passed to the function based on their position or order in the function's parameter list.\n"
   ]
  },
  {
   "cell_type": "code",
   "execution_count": 16,
   "metadata": {},
   "outputs": [
    {
     "name": "stdout",
     "output_type": "stream",
     "text": [
      "7\n"
     ]
    }
   ],
   "source": [
    "#Positional arguments\n",
    "def add_numbers(a, b):\n",
    "    return a+b\n",
    "\n",
    "print(add_numbers(3, 4))"
   ]
  },
  {
   "cell_type": "markdown",
   "metadata": {},
   "source": [
    "# Keyword arguments\n",
    "The idea is to allow the caller to specify the argument name with values so that the caller does not need to remember the order of parameters."
   ]
  },
  {
   "cell_type": "code",
   "execution_count": null,
   "metadata": {},
   "outputs": [
    {
     "name": "stdout",
     "output_type": "stream",
     "text": [
      "5\n"
     ]
    }
   ],
   "source": [
    "def add_numbers(a, b):\n",
    "    return a+b\n",
    "\n",
    "print(add_numbers(b=2, a=3)) #Keyword arguments : don't need to remember the order of parameters"
   ]
  },
  {
   "cell_type": "code",
   "execution_count": 31,
   "metadata": {},
   "outputs": [
    {
     "name": "stdout",
     "output_type": "stream",
     "text": [
      "1980.0\n",
      "2000.0\n"
     ]
    }
   ],
   "source": [
    "# exercise\n",
    "def calculate_cost(price, quantity, discount = 0.00, tax = 0.00):\n",
    "    subtotal = price*quantity\n",
    "    discounted_price = subtotal - (subtotal * discount)\n",
    "    total = discounted_price + ( discounted_price * tax )\n",
    "    return total\n",
    "\n",
    "print(calculate_cost(100,20,0.10, 0.10)) \n",
    "print(calculate_cost(100, 20))"
   ]
  }
 ],
 "metadata": {
  "kernelspec": {
   "display_name": "Python 3",
   "language": "python",
   "name": "python3"
  },
  "language_info": {
   "codemirror_mode": {
    "name": "ipython",
    "version": 3
   },
   "file_extension": ".py",
   "mimetype": "text/x-python",
   "name": "python",
   "nbconvert_exporter": "python",
   "pygments_lexer": "ipython3",
   "version": "3.13.0"
  }
 },
 "nbformat": 4,
 "nbformat_minor": 2
}
